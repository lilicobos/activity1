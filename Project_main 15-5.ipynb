{
 "cells": [
  {
   "cell_type": "markdown",
   "metadata": {},
   "source": [
    "Since the code was created by merging three different codes for processing data (biases, darks, flats) from three different nights, there are specific suffixes at the end of the variables to differenciate  which of the three nights they belong to:    \n",
    "* `main` for the night on 20 April 2021\n",
    "* `A39` for the night on 22 April 2021\n",
    "* `old` for the night on 17 April 2020\n",
    "\n",
    "Only frame A39 was taken during the night on 22 April 2021. The `old` images were taken by a different group last year.  \n",
    "  \n",
    "As said, the code was made by merging three different notebooks. Because of this, there are numerous functions defined that, even though they might not be strictly necessary, help to make the code more modular and universal in case changes had to be implemented."
   ]
  },
  {
   "cell_type": "markdown",
   "metadata": {},
   "source": [
    "## Import and prepare the data"
   ]
  },
  {
   "cell_type": "code",
   "execution_count": null,
   "metadata": {},
   "outputs": [],
   "source": [
    "#import packages\n",
    "from astropy.io import fits\n",
    "import numpy as np\n",
    "import os, fnmatch\n",
    "from matplotlib.pyplot import show, subplots\n",
    "from mpl_toolkits.axes_grid1 import make_axes_locatable\n",
    "from IPython.display import clear_output\n",
    "from image_registration import chi2_shift #non-default\n",
    "from image_registration.fft_tools import shift #non-default\n",
    "from astroscrappy import detect_cosmics #non-default"
   ]
  },
  {
   "cell_type": "markdown",
   "metadata": {},
   "source": [
    "Import information neccessary to load the data.  \n",
    "  \n",
    "For each of the `main`, `A39` and `old` nights, the destination path for the images, the numbers of the images to exclude, and the numbers of the frames corresponding to the images taken that night were loaded.  \n",
    "  \n",
    "Additionaly, the `empty_slices.txt` file was loaded into an array. This file includes the indices of pixels needed to remove the backgroud light from the images."
   ]
  },
  {
   "cell_type": "code",
   "execution_count": null,
   "metadata": {},
   "outputs": [],
   "source": [
    "#main\n",
    "destination_main = '/net/vega/data/users/observatory/images/210420/STL-6303E/i/'\n",
    "exclude_main = np.array([31, 33, 34, 65])\n",
    "frames_main = np.array(['A87', 'A47', 'A36', 'A38', 'A27', 'A16', 'A5', 'A26', 'A17', 'A28'])\n",
    "\n",
    "#A39\n",
    "destination_A39 = '/net/vega/data/users/observatory/images/210422/STL-6303E/i/'\n",
    "exclude_A39 = np.arange(60,89)\n",
    "frames_A39 = np.array(['A39'])\n",
    "\n",
    "#old\n",
    "destination_old = '/net/vega/data/users/observatory/images/200417/STL-6303E/i/'\n",
    "exclude_old = np.append(np.arange(40,49), np.append(np.array([52]), np.append(np.arange(56, 65), np.arange(85,125))))\n",
    "frames_old = np.array(['A50', 'A49', 'A48', 'A37'])\n",
    "\n",
    "#info for background removal\n",
    "empty_slices_path = '/net/virgo01/data/users/posker/ObservationalAstro/Project/empty_slices.txt'\n",
    "empty_slices = np.genfromtxt(empty_slices_path, dtype='str', comments = \"#\", delimiter = \",\")"
   ]
  },
  {
   "cell_type": "markdown",
   "metadata": {},
   "source": [
    "Based on the user input, determine the correct night the frame was taken on and load the relevant data for that night."
   ]
  },
  {
   "cell_type": "code",
   "execution_count": null,
   "metadata": {},
   "outputs": [],
   "source": [
    "def is_in(frame, frame_names):\n",
    "    '''Check if array \"frame_names\" includes value \"frame\". Return boolean value.'''\n",
    "    i = np.where(frame_names == frame)[0]\n",
    "    if i.size == 0:\n",
    "        return False\n",
    "    elif i.size > 0:\n",
    "        return True\n",
    "\n",
    "#ask user to imput the frame name that is about to be exported\n",
    "frame_n = input('Enter frame to show and export (default A36): ')\n",
    "\n",
    "#based on the user input, load the data from the relevant night the frame was taken on\n",
    "#also determine the index of the frame within the frames array of the relevant night\n",
    "if is_in(frame_n, frames_main):\n",
    "    frame_index, destination, exclude = np.where(frames_main == frame_n)[0][0], destination_main, exclude_main\n",
    "    night = '20/4/2021'\n",
    "    print(f'Loading frame {frame_n} and the data from night on {night}...')\n",
    "elif is_in(frame_n, frames_A39):\n",
    "    frame_index, destination, exclude = np.where(frames_A39 == frame_n)[0][0], destination_A39, exclude_A39\n",
    "    night = '22/4/2021'\n",
    "    print(f'Loading frame {frame_n} and the data from night on {night}...')\n",
    "elif is_in(frame_n, frames_old):\n",
    "    frame_index, destination, exclude = np.where(frames_old == frame_n)[0][0], destination_old, exclude_old\n",
    "    night = '17/4/2020'\n",
    "    print(f'Loading frame {frame_n} and the data from night on {night}...')\n",
    "#if the input is wrong in any way, take the default A36 frame\n",
    "else:\n",
    "    frame_n, frame_index, destination, exclude = 'A36', 2, destination_main, exclude_main\n",
    "    night = '20/4/2021'\n",
    "    print(f'Input \"{frame_n}\" not recognized, loading frame A36 from the night on 20/4/2021...')\n",
    "\n",
    "#relevant header keywords and colors of the images in the correct order (for easier and shorter code later)\n",
    "headers = ['IMAGETYP', 'EXPTIME', 'FILTER']\n",
    "colors = ['B', 'V', 'R']"
   ]
  },
  {
   "cell_type": "markdown",
   "metadata": {},
   "source": [
    "Based on the loaded destination paths and the numbers of the files to exclude, get all the names of the usable files, along with their full paths."
   ]
  },
  {
   "cell_type": "code",
   "execution_count": null,
   "metadata": {},
   "outputs": [],
   "source": [
    "def filenames(destination, exclude_numbers):\n",
    "    '''Given destination folder and numbers of files to exclude, using function exclude_files, returns names of the non-excluded files and their full paths.'''\n",
    "    \n",
    "    def exclude_files(file_names, exclude_numbers):\n",
    "        '''Excludes filenames with numbers specified in an array. Returns array with the filenames without the excluded files.'''\n",
    "        \n",
    "        #for each file, check if it is inluded in the exclude array, and if it is, remove it from the file_names\n",
    "        for i in file_names:\n",
    "            for exc in exclude_numbers:\n",
    "                #this condition differentiates between numbers to be excluded that are lower and higher than 100, do add a zero to the string\n",
    "                #does not support files with numbers larger than 999\n",
    "                if exc < 100:    \n",
    "                    if (f'.000000{exc}.' in i) == True:\n",
    "                        file_names = file_names[file_names != i]\n",
    "                else:\n",
    "                    if (f'.00000{exc}.' in i) == True:\n",
    "                        file_names = file_names[file_names != i]\n",
    "        return file_names\n",
    "    \n",
    "    #import the sorted names of the fits files in the desired folder, without the excluded files\n",
    "    file_names = exclude_files(np.sort(fnmatch.filter(os.listdir(destination), '*.FIT')), exclude_numbers)\n",
    "    \n",
    "    #generate another array, which includes the full file paths of all the files in the file_names array\n",
    "    file_paths = np.array([f'{destination}{i}' for i in file_names])\n",
    "    \n",
    "    return file_names, file_paths\n",
    "\n",
    "#execute the previously defined function to get the file names and their full paths\n",
    "file_names, file_paths = filenames(destination, exclude)"
   ]
  },
  {
   "cell_type": "markdown",
   "metadata": {},
   "source": [
    "Using the file paths and names, the extract function loops over the fits files and loads them. Then, it stacks the data into a 3D array and puts the necessary information, specified by the `headers` array, into a 2D array to be printed into a table and used later in the code."
   ]
  },
  {
   "cell_type": "code",
   "execution_count": null,
   "metadata": {},
   "outputs": [],
   "source": [
    "def extract(full_paths, file_names):\n",
    "    '''Extract data of the files given as file names, stack data into 3D array and info about the frames into 2D array. Return both arrays.'''\n",
    "    \n",
    "    #empty arrays to be filled in the loop\n",
    "    table_info = np.empty(0)\n",
    "    data = np.empty(fits.open(full_paths[0])[0].data.shape)\n",
    "\n",
    "    #the loop itself, filling the two arrays\n",
    "    for path, name in zip(full_paths, file_names):\n",
    "        #open fits\n",
    "        hdulist = fits.open(path)\n",
    "    \n",
    "        #append info\n",
    "        hdr = hdulist[0].header\n",
    "        line = [name, hdr[headers[0]], hdr[headers[1]], hdr[headers[2]]]\n",
    "        table_info = np.append(table_info, line)\n",
    "    \n",
    "        #stack data\n",
    "        image_data = hdulist[0].data\n",
    "        data = np.dstack((data, image_data))\n",
    "        \n",
    "        #continously print status of the loop\n",
    "        clear_output(wait = True)\n",
    "        if np.where(name == file_names)[0][0] < (file_names.shape[0] - 1):\n",
    "            print(f'Loaded {np.where(name == file_names)[0][0]+1}/{file_names.shape[0]} frames...')\n",
    "        else:\n",
    "            print(f'Done! Loaded all {file_names.size}/{file_names.size} frames')\n",
    "    \n",
    "    #format the arrays from the loop\n",
    "    data = data[:,:,1:] #remove empty first image\n",
    "    table_info = table_info.reshape(file_names.size, len(line)) #reshape\n",
    "    \n",
    "    return data, table_info\n",
    "\n",
    "#use the extract function to get the data in a 3D array and the table_info in a 2D array\n",
    "data, table_info = extract(file_paths, file_names)"
   ]
  },
  {
   "cell_type": "markdown",
   "metadata": {},
   "source": [
    "Slice the `table_info` into separate 1D arrays. Print a table listing all the relevant files and the inforation about them."
   ]
  },
  {
   "cell_type": "code",
   "execution_count": null,
   "metadata": {},
   "outputs": [],
   "source": [
    "def table_values(table_info):\n",
    "    '''Separates the array with the info for the table into separate arrays.'''\n",
    "    \n",
    "    #slice the table_info array; exposures are loaded as float\n",
    "    image_types, exposures, filters = table_info[:,1], table_info[:,2].astype('float'), table_info[:,3]\n",
    "    \n",
    "    return image_types, exposures, filters\n",
    "\n",
    "def print_table(file_names, image_types, exposures, filters):\n",
    "    '''Prints a table with the information from the given arrays.'''\n",
    "    print('| {0:^52} | {1:^15} | {2:^10} | {3:^8} |'.format('File name', 'Image type', 'Exp. time', 'Filter'))\n",
    "    print('----------------------------------------------------------------------------------------------')\n",
    "    \n",
    "    #print the info about the files using a loop\n",
    "    for i in range(len(file_names)):\n",
    "        print('| {0:^52} | {1:^15} | {2:>10} | {3:>8} |'.format(file_names[i], image_types[i], exposures[i], filters[i]))\n",
    "\n",
    "#use the table_values function to extract the individual properties of the files into separate 1D arrays\n",
    "image_types, exposures, filters = table_values(table_info)\n",
    "\n",
    "#print the table using the print_table function, given the previously obtained 1D arrays with the information\n",
    "print_table(file_names, image_types, exposures, filters)"
   ]
  },
  {
   "cell_type": "markdown",
   "metadata": {},
   "source": [
    "Separate the `data` array based on the purpose of the images."
   ]
  },
  {
   "cell_type": "code",
   "execution_count": null,
   "metadata": {},
   "outputs": [],
   "source": [
    "def separate(data, image_types, filters):\n",
    "    '''Separates the whole data array into 3D arrays of frames based on their function. \n",
    "    Returns the individual arrays (flats arrays are grouped into a touple based on the color).'''\n",
    "    bias_frames = data[:,:,image_types == 'Bias Frame']\n",
    "    dark_frames = data[:,:,image_types == 'Dark Frame']\n",
    "\n",
    "    flat_frames_B = data[:,:,(image_types == 'Flat Field') & (filters == 'B')]\n",
    "    flat_frames_V = data[:,:,(image_types == 'Flat Field') & (filters == 'V')]\n",
    "    flat_frames_R = data[:,:,(image_types == 'Flat Field') & (filters == 'R')]\n",
    "\n",
    "    images = data[:,:,image_types == 'Light Frame']\n",
    "    \n",
    "    return bias_frames, dark_frames, (flat_frames_B, flat_frames_V, flat_frames_R), images\n",
    "\n",
    "#use the slice function to separate the images in the data array based on their function\n",
    "bias_frames, dark_frames, flat_frames, images = separate(data, image_types, filters)\n",
    "\n",
    "#separate the tuple with flats based on color\n",
    "flat_frames_B, flat_frames_V, flat_frames_R = flat_frames"
   ]
  },
  {
   "cell_type": "markdown",
   "metadata": {},
   "source": [
    "## Bias"
   ]
  },
  {
   "cell_type": "markdown",
   "metadata": {},
   "source": [
    "Calculate master bias `B` for the relevant night."
   ]
  },
  {
   "cell_type": "code",
   "execution_count": null,
   "metadata": {},
   "outputs": [],
   "source": [
    "#calculate master bias by taking the median of the bias frames for every separate pixel\n",
    "B = np.median(bias_frames, axis = -1)"
   ]
  },
  {
   "cell_type": "markdown",
   "metadata": {},
   "source": [
    "Define three functions used from now on to plot images and work with data."
   ]
  },
  {
   "cell_type": "code",
   "execution_count": null,
   "metadata": {},
   "outputs": [],
   "source": [
    "def zero_floor(array):\n",
    "    '''Makes all negative values in an array equal to zero. Input can also be just a number.'''\n",
    "    array = np.where(array < 0, 0, array)\n",
    "    return array\n",
    "\n",
    "def vmax(image):\n",
    "    '''Defines vmax for plotting an image as median of the pixels + standard deviation.'''\n",
    "    vmax = np.median(image) + image.std()\n",
    "    return vmax\n",
    "\n",
    "def vmin(image):\n",
    "    '''Defines vmin for plotting an image as median of the pixels - standard deviation. If the result is lower than zero, returns zero.'''\n",
    "    vmin = zero_floor(np.median(image) - image.std())\n",
    "    return vmin"
   ]
  },
  {
   "cell_type": "markdown",
   "metadata": {},
   "source": [
    "Plot the calculated master bias for the relevant night."
   ]
  },
  {
   "cell_type": "code",
   "execution_count": null,
   "metadata": {},
   "outputs": [],
   "source": [
    "fig, frame = subplots(figsize = (12,12))\n",
    "image = frame.imshow(B, vmax = vmax(B), vmin = vmin(B), cmap = 'binary_r', origin = \"lower\")\n",
    "divider = make_axes_locatable(frame)\n",
    "colbarframe = divider.append_axes(\"right\", size = \"5%\", pad = 0.15)\n",
    "cbar = fig.colorbar(image, ax = frame, cax = colbarframe)\n",
    "frame.set_xlabel('x [px]'), frame.set_ylabel('y [px]')\n",
    "frame.set_title(f'Master Bias from {night}')\n",
    "fig.tight_layout()\n",
    "show()"
   ]
  },
  {
   "cell_type": "markdown",
   "metadata": {},
   "source": [
    "## Dark"
   ]
  },
  {
   "cell_type": "markdown",
   "metadata": {},
   "source": [
    "Calculate the master dark normalized per second exposure `Dn` for the relevant night."
   ]
  },
  {
   "cell_type": "code",
   "execution_count": null,
   "metadata": {},
   "outputs": [],
   "source": [
    "def corr_dark(dark_frames, B, exposures, image_types):\n",
    "    '''Corrects given darks for bias, calculates the master dark and normalizes it per second of exposure.'''\n",
    "    \n",
    "    def bias_correction(dark_frames, B):\n",
    "        '''Corrects individual dark frames from the 3D array for the master bias.'''\n",
    "        \n",
    "        #loop through all the individual dark frames and correct each one for master bias\n",
    "        for i in range(dark_frames.shape[2]):\n",
    "            dark_frames[:,:,i] = dark_frames[:,:,i] - B\n",
    "        \n",
    "        return dark_frames\n",
    "    \n",
    "    def D_norm(D, exposures, image_types):\n",
    "        '''Calculates the master dark normalized per second of exposure.'''\n",
    "        \n",
    "        #get the exposure time of the darks\n",
    "        #this assumes that all the darks for the relevant night have the same exposure time\n",
    "        exp_dark = int(exposures[image_types == 'Dark Frame'][0])\n",
    "        \n",
    "        #normalize the master dark per second exposure\n",
    "        Dn = D/exp_dark\n",
    "        \n",
    "        return Dn\n",
    "        \n",
    "    #use the bias_correction fucntion to correct every individual dark frame for master bias\n",
    "    dark_frames = bias_correction(dark_frames, B)\n",
    "    \n",
    "    #calculate the master dark by taking the median of the dark frames for every separate pixel\n",
    "    #use the zero_floor function to make sure there are no negative pixels\n",
    "    D = zero_floor(np.median(dark_frames, axis = -1))\n",
    "    \n",
    "    #use the D_norm function to normalize the master dark per second exposure\n",
    "    Dn = D_norm(D, exposures, image_types)\n",
    "\n",
    "    return Dn\n",
    "\n",
    "#use the corr_dark function to calculates the master dark normalized per second exposure\n",
    "Dn = corr_dark(dark_frames, B, exposures, image_types)"
   ]
  },
  {
   "cell_type": "markdown",
   "metadata": {},
   "source": [
    "Plot the calculated master dark normalized per second exposure for the relevant night."
   ]
  },
  {
   "cell_type": "code",
   "execution_count": null,
   "metadata": {
    "scrolled": false
   },
   "outputs": [],
   "source": [
    "fig, frame = subplots(figsize = (12,12))\n",
    "image = frame.imshow(Dn, vmax = vmax(Dn), vmin = vmin(Dn), cmap = 'binary_r', origin = \"lower\")\n",
    "divider = make_axes_locatable(frame)\n",
    "colbarframe = divider.append_axes(\"right\", size = \"5%\", pad = 0.15)\n",
    "cbar = fig.colorbar(image, ax = frame, cax = colbarframe)\n",
    "frame.set_xlabel('x [px]'), frame.set_ylabel('y [px]')\n",
    "frame.set_title(f'Master Dark from {night}')\n",
    "fig.tight_layout()\n",
    "show()"
   ]
  },
  {
   "cell_type": "markdown",
   "metadata": {},
   "source": [
    "## Flats"
   ]
  },
  {
   "cell_type": "markdown",
   "metadata": {},
   "source": [
    "Calculate the master flat `Fn` for each separate color and stack the three flats into a 3D array."
   ]
  },
  {
   "cell_type": "code",
   "execution_count": null,
   "metadata": {},
   "outputs": [],
   "source": [
    "def flats(image_types, filters, exposures, B, Dn, flats_B, flats_V, flats_R):\n",
    "    '''Given arrays with info about the frames, the master bias, the master dark adjusted for exposure\n",
    "    and 3D arrays with separate color flat frames; returns mater flats for each of the three colors.'''\n",
    "    \n",
    "    def corr_flat(flats, index_loop, indices, B, Dn, exposures):\n",
    "        '''Function to correct the individual flats within each array for bias and dark. Made to be used\n",
    "        in the loop in within function flats() below. Returns corrected flat.'''\n",
    "        \n",
    "        #correct the individual flat for master bias and master dark adjusted for exposure of the flat\n",
    "        #index_loop-indices.min() is a way to make the index start from zero to correctly get the frame from the array of flats of that color\n",
    "        corrected_flat = flats[:,:,index_loop-indices.min()] - B - (Dn * exposures[index_loop])\n",
    "        \n",
    "        #divide the flat by its median in order for the median of the flat to be 1\n",
    "        flats[:,:,index_loop-indices.min()] = corrected_flat/np.median(corrected_flat)\n",
    "        \n",
    "        return flats\n",
    "        \n",
    "    def indices_flats(color):\n",
    "        '''Gives an array with indices of flat frames with given color. Input \"color\" has to be string. '''\n",
    "        indices = np.where((image_types == 'Flat Field') & (filters == color))[0]\n",
    "        return indices\n",
    "\n",
    "    #indices of the flats from the original data table\n",
    "    indices_flats_B, indices_flats_V, indices_flats_R = indices_flats('B'), indices_flats('V'), indices_flats('R')\n",
    "    \n",
    "    #loop over the individual flats of each color and make the necessary adjustments (subtract B and Dn adjusted for exposure)\n",
    "    #designed in a way that only works if there is the same number of flat frames for every color\n",
    "    for b, v, r in zip(indices_flats_B, indices_flats_V, indices_flats_R):\n",
    "        flats_B = corr_flat(flats_B, b, indices_flats_B, B, Dn, exposures)\n",
    "        flats_V = corr_flat(flats_V, v, indices_flats_V, B, Dn, exposures)\n",
    "        flats_R = corr_flat(flats_R, r, indices_flats_R, B, Dn, exposures)\n",
    "    \n",
    "    #calculate master flat of each filter (median of the relevant flats for each separate pixel)\n",
    "    Fn_B, Fn_V, Fn_R = np.median(flats_B, axis = -1), np.median(flats_V, axis = -1), np.median(flats_R, axis = -1)\n",
    "    \n",
    "    #create a 3D array with the three flats stacked on top of each other\n",
    "    stacked_flats = np.dstack((Fn_B, np.dstack((Fn_V, Fn_R))))\n",
    "    \n",
    "    return stacked_flats\n",
    "\n",
    "#use the flats\n",
    "flats_BVR = flats(image_types, filters, exposures, B, Dn, flat_frames_B, flat_frames_V, flat_frames_R)"
   ]
  },
  {
   "cell_type": "markdown",
   "metadata": {},
   "source": [
    "Plot the calculated master flats for the relevant night. Each plot is of a flat for a separate color of the filter."
   ]
  },
  {
   "cell_type": "code",
   "execution_count": null,
   "metadata": {},
   "outputs": [],
   "source": [
    "fig, frame = subplots(figsize = (12,24))\n",
    "frame.axis('off')\n",
    "for i in range(flats_BVR.shape[2]):\n",
    "    frame = fig.add_subplot(3,1,i+1)\n",
    "    image = frame.imshow(flats_BVR[:,:,i], vmax = vmax(flats_BVR[:,:,i]), vmin = vmin(flats_BVR[:,:,i]), cmap = 'binary_r', origin = \"lower\")\n",
    "    divider = make_axes_locatable(frame)\n",
    "    colbarframe = divider.append_axes(\"right\", size = \"5%\", pad = 0.15)\n",
    "    cbar = fig.colorbar(image, ax = frame, cax = colbarframe)\n",
    "    frame.set_xlabel('x [px]'), frame.set_ylabel('y [px]')\n",
    "    frame.set_title(f'Flat {colors[i]} from {night}')\n",
    "fig.tight_layout()\n",
    "show()"
   ]
  },
  {
   "cell_type": "markdown",
   "metadata": {},
   "source": [
    "## Images"
   ]
  },
  {
   "cell_type": "markdown",
   "metadata": {},
   "source": [
    "Get the BVR images from the `images` array, correct each of them separately for master bias, master dark and master flat. Also normalize the exposure so that all three images would be identically exposed. Stack the three images into a 3D array. Remove majority of cosmic rays in the images by looping over the stack."
   ]
  },
  {
   "cell_type": "code",
   "execution_count": null,
   "metadata": {},
   "outputs": [],
   "source": [
    "def process(images, exposures, image_types, frame_index, B, Dn, flats_BVR): # +1D array coordinates + frame_n\n",
    "    '''Given all the images in an array, the exposures, image types, the index of the required frame and the correction \n",
    "    frames (master bias, master dark, flats), returns a 3D array of the stacked BVR images of the chosen frame.'''\n",
    "    \n",
    "    def correction(image, exp, B, Dn, Fn, frame_n, empty_slices):\n",
    "        '''Corrects individual image for different exposure, master bias, master dark, master flat and the background light.'''\n",
    "        \n",
    "        def background_corr(image, frame_n, empty_slices):\n",
    "            '''Correct the image for the background light based on the indices given in empty_slices.'''\n",
    "            \n",
    "            #load the line of coordinates (indices) relevant for the frame, convert them to integers\n",
    "            coordinates = empty_slices[frame_n == empty_slices[:,0],1:][0].astype(int)\n",
    "            \n",
    "            #create empty array to be filled in the loop\n",
    "            background = np.empty(0)\n",
    "            \n",
    "            #loop over the four slices without stars in them and append all their pixels into an array\n",
    "            #since only median of all the mixels is necessary, it is ok for the array to be flattened\n",
    "            for i in range(int(coordinates.size/4)):\n",
    "                #append the pixels from the slice of the image\n",
    "                background = np.append(background, image[coordinates[4*i]:coordinates[(4*i)+1], coordinates[(4*i)+2]:coordinates[(4*i)+3]])\n",
    "            \n",
    "            #calculate the median of all four of the slices\n",
    "            background_med = np.median(background)\n",
    "            \n",
    "            #correct the image for the background light by subtracting the median of the pixels from the areas without any stars\n",
    "            image = zero_floor(image - background_med)\n",
    "            \n",
    "            return image\n",
    "        \n",
    "        #correct the image for different exposure, master bias, master dark, master flat and background light\n",
    "        image = background_corr(zero_floor(((image * (300 / exp)) - B - (Dn * 300))/Fn), frame_n, empty_slices)\n",
    "        \n",
    "        return image\n",
    "    \n",
    "    #calculate the indices of each of the BVR images from the frame_index, get the exposures for the light frames\n",
    "    frame_indices, exp_light_frames = [3*frame_index, (3*frame_index) + 1, (3*frame_index) + 2], exposures[image_types == 'Light Frame']\n",
    "    \n",
    "    #use the correction function to do all the necessary corrections to each of the BVR images\n",
    "    image_B = correction(images[:,:,frame_indices[0]], exp_light_frames[frame_indices[0]], B, Dn, flats_BVR[:,:,0], frame_n, empty_slices)\n",
    "    image_V = correction(images[:,:,frame_indices[1]], exp_light_frames[frame_indices[1]], B, Dn, flats_BVR[:,:,1], frame_n, empty_slices)\n",
    "    image_R = correction(images[:,:,frame_indices[2]], exp_light_frames[frame_indices[2]], B, Dn, flats_BVR[:,:,2], frame_n, empty_slices)\n",
    "    \n",
    "    #stack the images into 3D array and stack them vertically\n",
    "    image_BVR = np.flip(np.dstack((image_B, np.dstack((image_V, image_R)))), axis = 0) #flipped!\n",
    "    \n",
    "    #loop over the images and correct each of them for cosmic rays\n",
    "    for i in range(3):\n",
    "        mask, clean = detect_cosmics(image_BVR[:,:,i], gain = 1.4, readnoise = 15.2, sigclip = 2)\n",
    "        image_BVR[:,:,i] = clean\n",
    "   \n",
    "    return image_BVR\n",
    "\n",
    "#use the process funtion to get the 3D array of the processed BVR images of the chosen frame\n",
    "image_BVR = process(images, exposures, image_types, frame_index, B, Dn, flats_BVR)"
   ]
  },
  {
   "cell_type": "markdown",
   "metadata": {},
   "source": [
    "Plot the obtained BVR images. Each plot is of an image for a separate color of the filter."
   ]
  },
  {
   "cell_type": "code",
   "execution_count": null,
   "metadata": {
    "scrolled": false
   },
   "outputs": [],
   "source": [
    "fig, frame = subplots(figsize = (12,24))\n",
    "frame.axis('off')\n",
    "for i in range(image_BVR.shape[2]):\n",
    "    frame = fig.add_subplot(3,1,i+1)\n",
    "    image = frame.imshow(image_BVR[:,:,i], vmax = vmax(image_BVR[:,:,i]), vmin = vmin(image_BVR[:,:,i]), cmap = 'binary_r', origin = \"lower\")\n",
    "    divider = make_axes_locatable(frame)\n",
    "    colbarframe = divider.append_axes(\"right\", size = \"5%\", pad = 0.15)\n",
    "    cbar = fig.colorbar(image, ax = frame, cax = colbarframe)\n",
    "    frame.set_xlabel('x [px]'), frame.set_ylabel('y [px]')\n",
    "    frame.set_title(f'{frame_n} in {colors[i]} from {night}')\n",
    "fig.tight_layout()\n",
    "show()"
   ]
  },
  {
   "cell_type": "markdown",
   "metadata": {},
   "source": [
    "Ask the user whether or not to export the result (BVR images) into separate fits files. If given \"y\", export the files."
   ]
  },
  {
   "cell_type": "code",
   "execution_count": null,
   "metadata": {},
   "outputs": [],
   "source": [
    "def export(image, file_paths, frame_n, image_types, filters, color):\n",
    "    '''Exports the given image into a fits file.'''\n",
    "    \n",
    "    #import the image as the data file of a new fits file\n",
    "    new_hdulist = fits.PrimaryHDU(image)\n",
    "    \n",
    "    #copy header information from a target frame of the same color\n",
    "    new_hdulist.header = fits.open(file_paths[(image_types == 'Light Frame') & (filters == color)][0])[0].header\n",
    "    \n",
    "    #change image type to target\n",
    "    new_hdulist.header['IMAGETYP'] = 'Target'\n",
    "    \n",
    "    #export the fits file\n",
    "    new_hdulist.writeto(f'{frame_n}_{color}.fits', overwrite = True, output_verify='ignore')\n",
    "\n",
    "#get user input whether or not to export the image\n",
    "y_n = input(f'Export the BVR images of {frame_n} as fits? (y/n) ')\n",
    "\n",
    "if y_n == 'y':\n",
    "    \n",
    "    #loop over the three images to export each of them separately\n",
    "    for i in range(3):\n",
    "        export(image_BVR[:,:,i], file_paths, frame_n, image_types, filters, colors[i])\n",
    "    \n",
    "    print(f'Exported BVR frames of {frame_n} as {frame_n}_B.fits, {frame_n}_V.fits and {frame_n}_R.fits')\n",
    "else:\n",
    "    print('Frames were not exported')"
   ]
  }
 ],
 "metadata": {
  "kernelspec": {
   "display_name": "Anaconda3 - 2020.07",
   "language": "python",
   "name": "python3-2020.07"
  },
  "language_info": {
   "codemirror_mode": {
    "name": "ipython",
    "version": 3
   },
   "file_extension": ".py",
   "mimetype": "text/x-python",
   "name": "python",
   "nbconvert_exporter": "python",
   "pygments_lexer": "ipython3",
   "version": "3.8.3"
  }
 },
 "nbformat": 4,
 "nbformat_minor": 2
}
